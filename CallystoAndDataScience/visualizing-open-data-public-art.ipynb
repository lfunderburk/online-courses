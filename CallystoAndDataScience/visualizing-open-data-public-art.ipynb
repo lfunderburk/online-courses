{
 "cells": [
  {
   "cell_type": "markdown",
   "metadata": {},
   "source": [
    "![Callysto.ca Banner](https://github.com/callysto/curriculum-notebooks/blob/master/callysto-notebook-banner-top.jpg?raw=true)"
   ]
  },
  {
   "cell_type": "markdown",
   "metadata": {},
   "source": [
    "# Exploring Vancouver, British Columbia Open Data\n",
    "\n",
    "In this notebook we will explore multiple ways to visualize the following Open Data set. \n",
    "\n",
    "Link to dataset https://opendata.vancouver.ca/explore/dataset/public-art/information/\n",
    "\n",
    "Contains information licensed under the Open Government Licence – Vancouver. See https://opendata.vancouver.ca/pages/licence/ \n"
   ]
  },
  {
   "cell_type": "markdown",
   "metadata": {},
   "source": [
    "We will begin by downloading the data using their publicly available [API](https://en.wikipedia.org/wiki/Application_programming_interface). \n",
    "\n",
    "Run the cell below using the >| Run button (or press SHIFT + ENTER). "
   ]
  },
  {
   "cell_type": "code",
   "execution_count": null,
   "metadata": {},
   "outputs": [],
   "source": [
    "# Get data from URL\n",
    "import requests as r\n",
    "# Parse data\n",
    "from pandas.io.json import json_normalize\n",
    "import pandas as pd\n",
    "import plotly.io as pio\n",
    "# Get data\n",
    "print(\"Downloading data\")\n",
    "link = \"https://tinyurl.com/ycjwdfhk\"\n",
    "\n",
    "try:\n",
    "    API_response_trees = r.get(link)\n",
    "    data = API_response_trees.json() \n",
    "    # Parse data\n",
    "    records = json_normalize(data=data['records'])\n",
    "    print(\"Success!\")\n",
    "    # Append coordinates\n",
    "    lon = []\n",
    "    lat = []\n",
    "    for item in records['fields.geom.coordinates'].to_list():\n",
    "        if type(item) !=float:\n",
    "            lon.append(item[0])\n",
    "            lat.append(item[1])\n",
    "        else:\n",
    "            lon.append(0)\n",
    "            lat.append(0)\n",
    "\n",
    "    records['longitude'] = lon\n",
    "    records['latitude'] = lat\n",
    "    print(\"Run the next cell to see the data.\")\n",
    "except:\n",
    "    \n",
    "    print(\"ERROR: Could not download data.\")"
   ]
  },
  {
   "cell_type": "code",
   "execution_count": null,
   "metadata": {},
   "outputs": [],
   "source": [
    "print(\"Print first five rows in the dataset.\")\n",
    "records.head()"
   ]
  },
  {
   "cell_type": "markdown",
   "metadata": {},
   "source": [
    "## Visualizing using matplotlib"
   ]
  },
  {
   "cell_type": "markdown",
   "metadata": {},
   "source": [
    "Let's group the data by fields.status"
   ]
  },
  {
   "cell_type": "code",
   "execution_count": null,
   "metadata": {},
   "outputs": [],
   "source": [
    "grouped_by_status = records.groupby(\"fields.status\").size().reset_index(name=\"Count\")\n",
    "grouped_by_status"
   ]
  },
  {
   "cell_type": "markdown",
   "metadata": {},
   "source": [
    "Import matplotlib class pyplot using alias plt. "
   ]
  },
  {
   "cell_type": "code",
   "execution_count": null,
   "metadata": {},
   "outputs": [],
   "source": [
    "import matplotlib.pyplot as plt"
   ]
  },
  {
   "cell_type": "markdown",
   "metadata": {},
   "source": [
    "#### Bar chart"
   ]
  },
  {
   "cell_type": "code",
   "execution_count": null,
   "metadata": {},
   "outputs": [],
   "source": [
    "plt.bar(grouped_by_status[\"fields.status\"],grouped_by_status[\"Count\"]);\n",
    "plt.title(\"BAR CHART: Status of Art\");\n",
    "plt.xlabel(\"Status\");\n",
    "plt.ylabel(\"Count\");"
   ]
  },
  {
   "cell_type": "markdown",
   "metadata": {},
   "source": [
    "#### Pie chart"
   ]
  },
  {
   "cell_type": "code",
   "execution_count": null,
   "metadata": {},
   "outputs": [],
   "source": [
    "labels = grouped_by_status[\"fields.status\"]\n",
    "patches, texts = plt.pie(grouped_by_status[\"Count\"], startangle=90)\n",
    "plt.legend(patches, labels, loc=\"best\")\n",
    "plt.title(\"PIE CHART: Status of Art\")\n",
    "plt.show()"
   ]
  },
  {
   "cell_type": "markdown",
   "metadata": {},
   "source": [
    "#### Histogram"
   ]
  },
  {
   "cell_type": "code",
   "execution_count": null,
   "metadata": {},
   "outputs": [],
   "source": [
    "plt.hist(records['fields.geo_local_area'].dropna());\n",
    "plt.tick_params('x', labelrotation=90);\n",
    "plt.title(\"Histogram: Art Geographical Local Area\");\n",
    "plt.xlabel(\"Geo Local Area\");\n",
    "plt.ylabel(\"Count\");\n",
    "plt.show()"
   ]
  },
  {
   "cell_type": "markdown",
   "metadata": {},
   "source": [
    "#### Scatter plot"
   ]
  },
  {
   "cell_type": "code",
   "execution_count": null,
   "metadata": {},
   "outputs": [],
   "source": [
    "non_nan = records.dropna()\n",
    "plt.scatter(non_nan[\"fields.type\"],pd.to_numeric(non_nan[\"fields.yearofinstallation\"]))\n",
    "plt.tick_params('x', labelrotation=90)\n",
    "plt.title(\"SCATTER PLOT: Year of Installation against kind of installation\");\n",
    "plt.xlabel(\"Type of art\");\n",
    "plt.ylabel(\"Year\");\n",
    "plt.show()"
   ]
  },
  {
   "cell_type": "markdown",
   "metadata": {},
   "source": [
    "#### All plots in a single plot"
   ]
  },
  {
   "cell_type": "code",
   "execution_count": null,
   "metadata": {},
   "outputs": [],
   "source": [
    "# Create figure 2 x 2\n",
    "fig, axs = plt.subplots(2, 2, figsize=(12, 12))\n",
    "# Bar chart\n",
    "axs[0, 0].bar(grouped_by_status[\"fields.status\"],grouped_by_status[\"Count\"]);\n",
    "axs[0, 0].set_title(\"BAR CHART: Status of Art\");\n",
    "axs[0, 0].set_xlabel(\"Status\");\n",
    "axs[0, 0].set_ylabel(\"Count\");\n",
    "# Histogram\n",
    "axs[1, 0].hist(records['fields.geo_local_area'].dropna());\n",
    "axs[1,0].tick_params('x', labelrotation=90)\n",
    "axs[1, 0].set_title(\"HISTOGRAM: Neighbourhood where art is located\");\n",
    "axs[1, 0].set_xlabel(\"Neighbourhood\");\n",
    "axs[1, 0].set_ylabel(\"Count\");\n",
    "# Pie chart\n",
    "labels = grouped_by_status[\"fields.status\"]\n",
    "patches, texts = axs[0, 1].pie(grouped_by_status[\"Count\"], startangle=90)\n",
    "axs[0, 1].legend(patches, labels, loc=\"best\")\n",
    "axs[0, 1].set_title(\"PIE CHART: Status of Art\")\n",
    "# Scatter plot\n",
    "non_nan = records.dropna()\n",
    "axs[1, 1].scatter(non_nan[\"fields.type\"],pd.to_numeric(non_nan[\"fields.yearofinstallation\"]))\n",
    "axs[1,1].tick_params('x', labelrotation=90)\n",
    "axs[1, 1].set_title(\"SCATTER PLOT: Year of Installation against kind of installation\");\n",
    "axs[1, 1].set_xlabel(\"Type of art\");\n",
    "axs[1, 1].set_ylabel(\"Year\");"
   ]
  },
  {
   "cell_type": "markdown",
   "metadata": {},
   "source": [
    "## Visualizing using Plotly"
   ]
  },
  {
   "cell_type": "markdown",
   "metadata": {},
   "source": [
    "Importing library."
   ]
  },
  {
   "cell_type": "code",
   "execution_count": null,
   "metadata": {},
   "outputs": [],
   "source": [
    "import plotly.express as px\n",
    "import plotly.io as pio"
   ]
  },
  {
   "cell_type": "code",
   "execution_count": null,
   "metadata": {},
   "outputs": [],
   "source": [
    "fig = px.histogram(records,x=\"fields.neighbourhood\",title=\"Histogram, art per neighborhood\")\n",
    "fig.show()\n",
    "pio.write_html(fig,\"art_per_neighbourhood_Histogram.html\", auto_open=True)"
   ]
  },
  {
   "cell_type": "code",
   "execution_count": null,
   "metadata": {},
   "outputs": [],
   "source": [
    "fig = px.pie(records,\"fields.type\",title=\"Pie chart: type of art\")\n",
    "fig.show()\n",
    "pio.write_html(fig,\"type_of_art_piechart.html\", auto_open=True)"
   ]
  },
  {
   "cell_type": "code",
   "execution_count": null,
   "metadata": {},
   "outputs": [],
   "source": [
    "fig = px.bar(records,'fields.status',title=\"Bar chart: status of art\")\n",
    "\n",
    "fig.show()\n",
    "\n",
    "pio.write_html(fig,\"status_of_art_barchart.html\", auto_open=True)"
   ]
  },
  {
   "cell_type": "code",
   "execution_count": null,
   "metadata": {},
   "outputs": [],
   "source": [
    "fig= px.scatter(records,'fields.neighbourhood','fields.type',marginal_y=\"box\", marginal_x=\"histogram\",\n",
    "          color=\"fields.status\",\n",
    "           title=\"Scatter plot (main plot) of type of art vs neighborhood. Bar chart (top), box plot (right)\")\n",
    "\n",
    "fig.show()\n",
    "\n",
    "pio.write_html(fig,\"type_art_vs_neighborhood_scatter.html\", auto_open=True)"
   ]
  },
  {
   "cell_type": "markdown",
   "metadata": {},
   "source": [
    "## Cufflinks"
   ]
  },
  {
   "cell_type": "code",
   "execution_count": null,
   "metadata": {},
   "outputs": [],
   "source": [
    "#load the \"cufflinks\" library under the short name \"cf\"\n",
    "import cufflinks as cf\n",
    "\n",
    "#command to display graphics correctly in a Jupyter notebook\n",
    "cf.go_offline()"
   ]
  },
  {
   "cell_type": "markdown",
   "metadata": {},
   "source": [
    "#### Exercise\n",
    "\n",
    "Run the code below to generate visualizations of the kinds of art. "
   ]
  },
  {
   "cell_type": "code",
   "execution_count": null,
   "metadata": {},
   "outputs": [],
   "source": [
    "# Group data by fields type\n",
    "Type_of_field = records.groupby(\"fields.type\").size().reset_index(name=\"Count\")\n",
    "Type_of_field"
   ]
  },
  {
   "cell_type": "code",
   "execution_count": null,
   "metadata": {},
   "outputs": [],
   "source": [
    "import plotly\n",
    "\n",
    "fig = Type_of_field.iplot(kind='bar',\n",
    "                    y=\"Count\",\n",
    "                    x=\"fields.type\",\n",
    "                    title=\"Bar chart: Type of art\",\n",
    "                   xTitle=\"Type of art\", yTitle=\"Count\")\n",
    "\n",
    "plotly.offline.plot(fig,filename=\"cufflinks/example.html\")\n"
   ]
  },
  {
   "cell_type": "code",
   "execution_count": null,
   "metadata": {},
   "outputs": [],
   "source": [
    "Type_of_field.iplot(kind='pie',values=\"Count\",labels=\"fields.type\",\n",
    "                   title=\"Pie chart: Type of art\")\n"
   ]
  },
  {
   "cell_type": "code",
   "execution_count": null,
   "metadata": {},
   "outputs": [],
   "source": [
    "\n",
    "px.density_heatmap(records,\"fields.type\",\n",
    "                   \"fields.artists\",\n",
    "                   title=\"Heatmap of type of art against the number of artists involved\")\n"
   ]
  },
  {
   "cell_type": "markdown",
   "metadata": {},
   "source": [
    "#### Exercise\n",
    "\n",
    "Re-rerun the code above, and substitute fields.type for one of fields.geo_local_area or fields.neighborhood. Create three new cells with your code. "
   ]
  },
  {
   "cell_type": "markdown",
   "metadata": {},
   "source": [
    "## Folium"
   ]
  },
  {
   "cell_type": "code",
   "execution_count": null,
   "metadata": {
    "scrolled": false
   },
   "outputs": [],
   "source": [
    "!pip install folium"
   ]
  },
  {
   "cell_type": "code",
   "execution_count": null,
   "metadata": {},
   "outputs": [],
   "source": [
    "import folium\n",
    "# We want to cluster them using the MarkerCluster submodule from folium plugins\n",
    "from folium.plugins import MarkerCluster \n",
    "\n",
    "# ✏️ Your code here\n",
    "latitude = 49.2827\n",
    "longitude = -123.1207\n",
    "\n",
    "# Initial coordinates \n",
    "SC_COORDINATES = [latitude, longitude]\n",
    "\n",
    "# Create a map using our initial coordinates\n",
    "map_osm=folium.Map(location=SC_COORDINATES, zoom_start=10, tiles='Stamen Terrain')\n",
    "\n",
    "# Display the map \n",
    "display(map_osm)\n"
   ]
  },
  {
   "cell_type": "code",
   "execution_count": null,
   "metadata": {},
   "outputs": [],
   "source": [
    "#Create marker cluster and add to our map\n",
    "marker_cluster = MarkerCluster().add_to(map_osm)\n",
    "\n",
    "# Iterate over each record, and add tree x and y coordinates, as well as tree name\n",
    "MAX_RECORDS = len(records)\n",
    "# For each record in rawData\n",
    "for each in records[0:MAX_RECORDS].iterrows():\n",
    "    # Use folium.Marker function, use X and Y coordinates to specify location\n",
    "    folium.Marker(location = [each[1]['latitude'],each[1]['longitude']], \n",
    "                  # Add tree name\n",
    "                  popup=folium.Popup(each[1]['fields.url'],sticky=True),\n",
    "                  \n",
    "                  #Make color/style changes here\n",
    "                  icon=folium.Icon(color='green', icon='fa-tint', prefix='fa'),\n",
    "                  # Make sure our trees cluster nicely!\n",
    "                  clustered_marker = True).add_to(marker_cluster)\n",
    "\n",
    "# Show the map\n",
    "display(map_osm)\n",
    "map_osm.save('van_art.html')"
   ]
  },
  {
   "cell_type": "markdown",
   "metadata": {},
   "source": [
    "[![Callysto.ca License](https://github.com/callysto/curriculum-notebooks/blob/master/callysto-notebook-banner-bottom.jpg?raw=true)](https://github.com/callysto/curriculum-notebooks/blob/master/LICENSE.md)"
   ]
  }
 ],
 "metadata": {
  "kernelspec": {
   "display_name": "Python 3",
   "language": "python",
   "name": "python3"
  },
  "language_info": {
   "codemirror_mode": {
    "name": "ipython",
    "version": 3
   },
   "file_extension": ".py",
   "mimetype": "text/x-python",
   "name": "python",
   "nbconvert_exporter": "python",
   "pygments_lexer": "ipython3",
   "version": "3.8.5"
  }
 },
 "nbformat": 4,
 "nbformat_minor": 2
}
