{
 "cells": [
  {
   "cell_type": "markdown",
   "metadata": {},
   "source": [
    "![Callysto.ca Banner](https://github.com/callysto/curriculum-notebooks/blob/master/callysto-notebook-banner-top.jpg?raw=true)"
   ]
  },
  {
   "cell_type": "markdown",
   "metadata": {},
   "source": [
    "# Module 5 Unit 3\n",
    "## Population Data\n",
    "\n",
    "Now that we are familiar with the tools of data science (Jupyter, Python, and various data and visualization libraries), let’s talk about analyzing and interpreting data. As mentioned in Module 1, we will focus on describing data and not delve much into the more difficult processes of diagnosing, predicting, or prescribing.\n",
    "\n",
    "To start with our analysis and interpretation, we can look at the [populations of countries over time](https://docs.google.com/spreadsheets/d/14_suWY8fCPEXV0MH7ZQMZ-KndzMVsSsA5HdR-7WqAC0/edit#gid=501532268). We’ll use data from [Gapminder](https://www.gapminder.org), which is based on [observations, estimates, and projections](http://gapm.io/dpop)."
   ]
  },
  {
   "cell_type": "code",
   "execution_count": null,
   "metadata": {},
   "outputs": [],
   "source": [
    "import pandas as pd\n",
    "import plotly.express as px\n",
    "import plotly.io as pio\n",
    "\n",
    "\n",
    "pop_csv_url = 'https://docs.google.com/spreadsheets/d/18Ep3s1S0cvlT1ovQG9KdipLEoQ1Ktz5LtTTQpDcWbX0/export?gid=1863690772&format=csv'\n",
    "df = pd.read_csv(pop_csv_url)"
   ]
  },
  {
   "cell_type": "code",
   "execution_count": null,
   "metadata": {},
   "outputs": [],
   "source": [
    "geo_indicator = df.set_index('name').drop(columns=['geo','indicator']).T['Canada']\n",
    "\n",
    "fig = px.line(x= geo_indicator.index,y=geo_indicator.values,\n",
    "       title='Population of Canada over Time', labels={'x':\"Year\",\"y\":\"Population\"})\n",
    "\n",
    "fig.show()\n",
    "# Save as HTML\n",
    "#pio.write_html(fig,\"Population_of_Canada_over_Time.html\", auto_open=True)"
   ]
  },
  {
   "cell_type": "markdown",
   "metadata": {},
   "source": [
    "Looking at the line graph above, we can see that there has been a fairly steady increase in the population of Canada over the time period for which we have data.\n",
    "\n",
    "The slope (steepness) of this line graph shows us the population growth in Canada. A negative slope would mean a decreasing population, but the slope here is always positive. Looking at about 1950 there is an increase in the slope of the line, corresponding to the [baby boom](https://en.wikipedia.org/wiki/Baby_boom) after World War II. The projections to the year 2100 show the slope decreasing, meaning that Canada’s population growth rate will likely be decreasing.\n",
    "\n",
    "Let’s compare Canada’s population over time to other countries in North America."
   ]
  },
  {
   "cell_type": "code",
   "execution_count": null,
   "metadata": {},
   "outputs": [],
   "source": [
    "country_list = ['Canada','United States','Mexico']\n",
    "can_us_mex_pop = df.set_index('name').drop(columns=['geo','indicator']).T[country_list]\n",
    "\n",
    "fig = px.line(can_us_mex_pop,title='Population over Time',labels={'index':\"Year\",'value':'Population'})\n",
    "\n",
    "fig.show()\n",
    "# Save as HTML\n",
    "#pio.write_html(fig,\"Population_of_Can_US_Mex.html\", auto_open=True)"
   ]
  },
  {
   "cell_type": "markdown",
   "metadata": {},
   "source": [
    "Again we can see a \"baby boom\" after World War II, particularly in the United States. The graphs also shows the population of Mexico decreasing after 2060, perhaps it would be interesting to explore the reasons for this projection.\n",
    "\n",
    "Let's have a look at population data for countries on different continents that have populations similar to Canada's."
   ]
  },
  {
   "cell_type": "code",
   "execution_count": null,
   "metadata": {},
   "outputs": [],
   "source": [
    "country_list = ['Canada','Argentina','South Africa','Poland','Iran','Thailand']\n",
    "countries = df.set_index('name').drop(columns=['geo','indicator']).T[country_list]\n",
    "\n",
    "fig = px.line(countries,title='Population over Time',labels={'index':\"Year\",'value':'Population'})\n",
    "\n",
    "fig.show()\n",
    "# Save as HTML\n",
    "#pio.write_html(fig,\"Population_of_several_countries.html\", auto_open=True)"
   ]
  },
  {
   "cell_type": "markdown",
   "metadata": {},
   "source": [
    "One of the first things we notice in looking at this graph is the population dips in Poland during each of the world wars.\n",
    "\n",
    "Again we see projected population decreases for some of the countries in the list. However if we want to ignore the projections we can look at just the data from 1900 to 2020."
   ]
  },
  {
   "cell_type": "code",
   "execution_count": null,
   "metadata": {
    "scrolled": false
   },
   "outputs": [],
   "source": [
    "countries_1990_2020 = df.set_index('name').drop(columns=['geo','indicator']).T[country_list].loc['1900':'2020']\n",
    "\n",
    "fig = px.line(countries_1990_2020,title='Population over Time',labels={'index':\"Year\",'value':'Population'})\n",
    "\n",
    "fig.show()\n",
    "# Save as HTML\n",
    "#pio.write_html(fig,\"Population_of_several_countries_1990_2020.html\", auto_open=True)"
   ]
  },
  {
   "cell_type": "markdown",
   "metadata": {},
   "source": [
    "Using this set of population data, we’ve been able to visualize and describe some interesting trends using just line graphs. In the next unit we’ll explore some other types of visualizations."
   ]
  },
  {
   "cell_type": "markdown",
   "metadata": {},
   "source": [
    "## Activity\n",
    "\n",
    "Launch this notebook in Callysto Hub and make graphs of population data over time for other countries (perhaps China, India, and the United States). Look at the graphs and describe what you see."
   ]
  },
  {
   "cell_type": "code",
   "execution_count": null,
   "metadata": {},
   "outputs": [],
   "source": [
    "country_list2 = ['China', 'India', 'United States']\n",
    "china_india_us = df.set_index('name').drop(columns=['geo','indicator']).T[country_list2]\n",
    "\n",
    "fig = px.line(china_india_us,title='Population over Time',labels={'index':\"Year\",'value':'Population'})\n",
    "\n",
    "fig.show()\n",
    "\n",
    "# Save as HTML\n",
    "#pio.write_html(fig,\"Population_of_china_india_us.html\", auto_open=True)"
   ]
  },
  {
   "cell_type": "code",
   "execution_count": null,
   "metadata": {
    "scrolled": false
   },
   "outputs": [],
   "source": [
    "all_countries = df.set_index('name').drop(columns=['geo','indicator']).T\n",
    "\n",
    "\n",
    "fig = px.line(all_countries,title='Population over Time',labels={'index':\"Year\",'value':'Population'})\n",
    "\n",
    "fig.show()\n",
    "\n",
    "# Save as HTML\n",
    "pio.write_html(fig,\"Population_of_several_countries_1990_2020.html\", auto_open=True)"
   ]
  },
  {
   "cell_type": "markdown",
   "metadata": {},
   "source": [
    "[![Callysto.ca License](https://github.com/callysto/curriculum-notebooks/blob/master/callysto-notebook-banner-bottom.jpg?raw=true)](https://github.com/callysto/curriculum-notebooks/blob/master/LICENSE.md)"
   ]
  }
 ],
 "metadata": {
  "kernelspec": {
   "display_name": "Python 3",
   "language": "python",
   "name": "python3"
  },
  "language_info": {
   "codemirror_mode": {
    "name": "ipython",
    "version": 3
   },
   "file_extension": ".py",
   "mimetype": "text/x-python",
   "name": "python",
   "nbconvert_exporter": "python",
   "pygments_lexer": "ipython3",
   "version": "3.8.5"
  }
 },
 "nbformat": 4,
 "nbformat_minor": 4
}
