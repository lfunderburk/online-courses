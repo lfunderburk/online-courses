{
 "cells": [
  {
   "cell_type": "markdown",
   "metadata": {},
   "source": [
    "![Callysto.ca Banner](https://github.com/callysto/curriculum-notebooks/blob/master/callysto-notebook-banner-top.jpg?raw=true)"
   ]
  },
  {
   "cell_type": "markdown",
   "metadata": {},
   "source": [
    "# Data Science Example - Olympics\n",
    "\n",
    "Some visualizations of [statistics from the modern Olympic Games](https://www.kaggle.com/heesoo37/120-years-of-olympic-history-athletes-and-results/data#athlete_events.csv)."
   ]
  },
  {
   "cell_type": "code",
   "execution_count": null,
   "metadata": {},
   "outputs": [],
   "source": [
    "import pandas as pd\n",
    "import plotly.io as pio\n",
    "import plotly.express as px"
   ]
  },
  {
   "cell_type": "code",
   "execution_count": null,
   "metadata": {},
   "outputs": [],
   "source": [
    "# Read data\n",
    "\n",
    "olympics = pd.read_csv('data/olympics.csv')\n"
   ]
  },
  {
   "cell_type": "code",
   "execution_count": null,
   "metadata": {},
   "outputs": [],
   "source": [
    "athletes_by_year = olympics.groupby([\"Year\"]).size()\n",
    "fig = px.line(x=athletes_by_year.index,y= athletes_by_year.values,title='Number of Athletes per Year (Olympics)',\n",
    "       labels={\"y\":\"Number of Athletes\",\"x\":\"Year\"})\n",
    "\n",
    "fig.show()\n",
    "# Save as HTML\n",
    "#pio.write_html(fig,\"olympics_Number_of_Athletes_per_Year.html\", auto_open=True)"
   ]
  },
  {
   "cell_type": "code",
   "execution_count": null,
   "metadata": {},
   "outputs": [],
   "source": [
    "winter_athletes_by_year = olympics[olympics['Season']=='Winter'].groupby([\"Year\"]).size()\n",
    "\n",
    "fig = px.line(x=winter_athletes_by_year.index,y=winter_athletes_by_year.values,\n",
    "             labels={\"y\":\"Number of Athletes\",\"x\":\"Year\"},title='Number of Athletes per Year (Winter Olympics)')\n",
    "\n",
    "fig.show()\n",
    "# Save as html\n",
    "#pio.write_html(fig,\"olympics_(WINTER)_Number_of_Athletes_per_Year.html\", auto_open=True)"
   ]
  },
  {
   "cell_type": "code",
   "execution_count": null,
   "metadata": {},
   "outputs": [],
   "source": [
    "medals = olympics.dropna(subset=[\"Medal\"])\n",
    "medals_winter = medals[medals[\"Season\"]==\"Winter\"]\n",
    "top_ten = medals_winter.groupby('region').count().sort_values('Medal',ascending=False)['Medal'].head(10)\n",
    "\n",
    "fig = px.bar(x=top_ten.index,y=top_ten.values,title='Medals per Country (Winter Olympics, Top 10 Countries)',\n",
    "            labels={\"x\":\"Country\",'y':'Number of Medals'})\n",
    "\n",
    "fig.show()\n",
    "\n",
    "# Save as html\n",
    "#pio.write_html(fig,\"olympics_top_10_medals.html\", auto_open=True)"
   ]
  },
  {
   "cell_type": "code",
   "execution_count": null,
   "metadata": {},
   "outputs": [],
   "source": [
    "canada_medals = medals[medals['region']=='Canada']\n",
    "medals_per_sport = canada_medals.groupby('Sport').count().sort_values('Medal',ascending=False)['Medal']\n",
    "\n",
    "fig = px.bar(x=medals_per_sport.index,y=medals_per_sport.values,\n",
    "             title='Canadian Olympic Medals per Sport',\n",
    "            labels={\"x\":\"Country\",'y':'Number of Medals'})\n",
    "\n",
    "fig.show()\n",
    "\n",
    "# Save as html\n",
    "#pio.write_html(fig,\"olympics_canadian_medals_per_sport.html\", auto_open=True)"
   ]
  },
  {
   "cell_type": "code",
   "execution_count": null,
   "metadata": {},
   "outputs": [],
   "source": [
    "df_canada_medals = pd.DataFrame(canada_medals.groupby('Sport').count().sort_values('Medal',ascending=False)['Medal'])\n",
    "df_canada_medals.rename(columns={'Medal':'Medals'}, inplace=True)\n",
    "df_canada_medals"
   ]
  },
  {
   "cell_type": "code",
   "execution_count": null,
   "metadata": {},
   "outputs": [],
   "source": [
    "medals_per_athlete = pd.DataFrame(medals.groupby('Name').count().sort_values('Medal',ascending=False).head(20)['Medal'])\n",
    "medals_per_athlete_no_dp = medals_per_athlete.merge(olympics[['Name','region']].drop_duplicates('Name'),on='Name')\n",
    "\n",
    "\n",
    "fig = px.bar(y=medals_per_athlete_no_dp.Name,x=medals_per_athlete_no_dp.Medal,\n",
    "             title='Number of Olympic Medals per Athlete (Top 20)',\n",
    "            labels={\"x\":\"Number of Medals\",'y':'Name'},\n",
    "            text=medals_per_athlete_no_dp[\"region\"])\n",
    "\n",
    "fig.show()\n",
    "\n",
    "# Save as html\n",
    "pio.write_html(fig,\"olympics_top20_athletes.html\", auto_open=True)\n"
   ]
  },
  {
   "cell_type": "markdown",
   "metadata": {},
   "source": [
    "[![Callysto.ca License](https://github.com/callysto/curriculum-notebooks/blob/master/callysto-notebook-banner-bottom.jpg?raw=true)](https://github.com/callysto/curriculum-notebooks/blob/master/LICENSE.md)"
   ]
  }
 ],
 "metadata": {
  "kernelspec": {
   "display_name": "Python 3",
   "language": "python",
   "name": "python3"
  },
  "language_info": {
   "codemirror_mode": {
    "name": "ipython",
    "version": 3
   },
   "file_extension": ".py",
   "mimetype": "text/x-python",
   "name": "python",
   "nbconvert_exporter": "python",
   "pygments_lexer": "ipython3",
   "version": "3.8.5"
  }
 },
 "nbformat": 4,
 "nbformat_minor": 4
}
