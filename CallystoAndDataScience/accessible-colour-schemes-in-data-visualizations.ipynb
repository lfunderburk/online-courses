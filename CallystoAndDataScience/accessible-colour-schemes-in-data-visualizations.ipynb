{
 "cells": [
  {
   "cell_type": "markdown",
   "metadata": {},
   "source": [
    "![Callysto.ca Banner](https://github.com/callysto/curriculum-notebooks/blob/master/callysto-notebook-banner-top.jpg?raw=true)"
   ]
  },
  {
   "cell_type": "markdown",
   "metadata": {},
   "source": [
    "# Accessible colour schemes in data visualizations"
   ]
  },
  {
   "cell_type": "markdown",
   "metadata": {},
   "source": [
    "ColorBrewer 2.0 is a free online diagnostic tool for evaluating color schemes used in maps and other data visualizations. It can also be used to generate new colour schemes that are friendly to people who experience colourblindness.\n",
    "\n",
    "\n",
    "Go to the ColorBrewer 2.0 website now and have a look around:  http://colorbrewer2.org/\n",
    "![](./images/ColourBrewer.png)\n",
    "  \n",
    "\n",
    "\n",
    "On the left side of the page are a number of different options for generating colour schemes. We can choose the number of data classes, the type of data, whether to use a single hue or multi-hue colour scheme, and can choose to only generate schemes that are colourblind safe.\n",
    "\n",
    "When a colour scheme is generated, it is displayed in the EXPORT area in the lower left, and includes the hex codes for each colour, which can be easily added to Python code to specify what colours to display.\n",
    "\n",
    "\n",
    "Let's create a pie chart of some simple pet data."
   ]
  },
  {
   "cell_type": "code",
   "execution_count": null,
   "metadata": {},
   "outputs": [],
   "source": [
    "#load \"pandas\" library under the alias \"pd\"\n",
    "import pandas as pd\n",
    "import plotly.express as px\n",
    "\n",
    "#identify the location of our online data\n",
    "url = \"https://raw.githubusercontent.com/callysto/online-courses/master/CallystoAndDataScience/data/pets-bootstrap.csv\"\n",
    "\n",
    "#read csv file from url and create a dataframe\n",
    "pets = pd.read_csv(url)\n",
    "\n",
    "species = pets.groupby(\"Species\").size().reset_index(name=\"Count\")\n",
    "\n",
    "#specify a list of the colours we want to use\n",
    "colour_list1 = ['#ffffcc','#a1dab4','#41b6c4','#2c7fb8','#253494']\n",
    "\n",
    "#define a pie chart of the different species in our data set\n",
    "fig = px.pie(species,values=\"Count\",names=\"Species\",title=\"Species of pets\",color_discrete_sequence=colour_list1)\n",
    "\n",
    "#display the pie chart\n",
    "fig.show()"
   ]
  },
  {
   "cell_type": "markdown",
   "metadata": {},
   "source": [
    "Now lets generate a new set of colours for our pie chart that are colourblind safe.\n",
    "\n",
    "1. In ColorBrewer 2.0, change the number of data classes to **5**.\n",
    "\n",
    "2. Check the `colourblind safe` under the **Only Show** menu. \n",
    "\n",
    "3. Click on one of the colour strips. Notice that the colours scheme you chose appears in the **EXPORT** area. Beside each colour is a 6-character code beginning with a **#**.  \n",
    "\n",
    "4. Pick a set of colours and apply them in the code above to change the colour scheme of the pie chart.\n",
    "\n",
    "5. Run the cell again to update the pie chart. "
   ]
  },
  {
   "cell_type": "markdown",
   "metadata": {},
   "source": [
    "[![Callysto.ca License](https://github.com/callysto/curriculum-notebooks/blob/master/callysto-notebook-banner-bottom.jpg?raw=true)](https://github.com/callysto/curriculum-notebooks/blob/master/LICENSE.md)"
   ]
  }
 ],
 "metadata": {
  "kernelspec": {
   "display_name": "Python 3",
   "language": "python",
   "name": "python3"
  },
  "language_info": {
   "codemirror_mode": {
    "name": "ipython",
    "version": 3
   },
   "file_extension": ".py",
   "mimetype": "text/x-python",
   "name": "python",
   "nbconvert_exporter": "python",
   "pygments_lexer": "ipython3",
   "version": "3.7.4"
  }
 },
 "nbformat": 4,
 "nbformat_minor": 2
}
