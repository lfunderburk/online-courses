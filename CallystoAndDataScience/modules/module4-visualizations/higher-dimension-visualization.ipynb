{
 "cells": [
  {
   "cell_type": "markdown",
   "metadata": {},
   "source": [
    "![Callysto.ca Banner](https://github.com/callysto/curriculum-notebooks/blob/master/callysto-notebook-banner-top.jpg?raw=true)"
   ]
  },
  {
   "cell_type": "markdown",
   "metadata": {},
   "source": [
    "# Higher Dimension Visualizations"
   ]
  },
  {
   "cell_type": "markdown",
   "metadata": {},
   "source": [
    "Run the following code in your Jupyter notebook to import the pandas library and recreate the `pets` DataFrame. "
   ]
  },
  {
   "cell_type": "code",
   "execution_count": null,
   "metadata": {},
   "outputs": [],
   "source": [
    "#load \"pandas\" library under the alias \"pd\"\n",
    "import pandas as pd\n",
    "\n",
    "#identify the location of our online data\n",
    "url = \"https://raw.githubusercontent.com/callysto/online-courses/master/CallystoAndDataScience/data/pets-bootstrap.csv\"\n",
    "\n",
    "#read csv file from url and create a dataframe\n",
    "pets = pd.read_csv(url)\n",
    "\n",
    "#display the head of the data\n",
    "pets.head()"
   ]
  },
  {
   "cell_type": "markdown",
   "metadata": {},
   "source": [
    "We learned in previous modules that we can create a scatter plot to evaluate the relationship between two variables. \n",
    "\n",
    "For example, let's say we want to study the relationship between age of a pet and how long it took for the pet to be adopted. \n"
   ]
  },
  {
   "cell_type": "code",
   "execution_count": null,
   "metadata": {},
   "outputs": [],
   "source": [
    "import plotly.express as px\n",
    "import plotly.io as pio\n",
    "# Create scatter plot\n",
    "scatter_pet = px.scatter(pets,\n",
    "           x=\"Time to Adoption (weeks)\", \n",
    "           y=\"Age (years)\",\n",
    "           title=\"Age (in years) and Time to Adoption (weeks) for each pet\",\n",
    "            color =\"Species\",hover_name=\"Name\")\n",
    "\n",
    "scatter_pet.show()"
   ]
  },
  {
   "cell_type": "markdown",
   "metadata": {},
   "source": [
    "Suppose now that we are interested in comparing the weight of a pet, and how long it took for the pet to be adopted. "
   ]
  },
  {
   "cell_type": "code",
   "execution_count": null,
   "metadata": {},
   "outputs": [],
   "source": [
    "# Create scatter plot\n",
    "scatter_pet2 = px.scatter(pets,\n",
    "           x=\"Time to Adoption (weeks)\", \n",
    "           y=\"Weight (lbs)\",\n",
    "           title=\"Weight (lbs) and Time to Adoption (weeks) for each pet\",\n",
    "            color =\"Species\",hover_name=\"Name\")\n",
    "\n",
    "scatter_pet2.show()"
   ]
  },
  {
   "cell_type": "markdown",
   "metadata": {},
   "source": [
    "Although it was relatively easy to create two plots to compare each, it is worth asking, could we compare both age and weight, relative to how long it took for the pets to be adopted? Yes!\n",
    "\n",
    "In the next section, we will learn how to use the `scatter_3d()` within Plotly to do this."
   ]
  },
  {
   "cell_type": "markdown",
   "metadata": {},
   "source": [
    "### Passing three variables."
   ]
  },
  {
   "cell_type": "markdown",
   "metadata": {},
   "source": [
    "Run the code below to create a 3D scatter plot of the pets' weight, age and time to adoption, where we will use three variables `x, y, z` such that\n",
    "\n",
    "`x = 'Weight (lbs)'`\n",
    "\n",
    "`y = 'Age (years)'`\n",
    "\n",
    "`z  = 'Time to Adoption (weeks)'`"
   ]
  },
  {
   "cell_type": "code",
   "execution_count": null,
   "metadata": {},
   "outputs": [],
   "source": [
    "# Create 3D scatter plot\n",
    "fig = px.scatter_3d(pets, \n",
    "                    x='Weight (lbs)', \n",
    "                    y='Age (years)', \n",
    "                    z='Time to Adoption (weeks)',\n",
    "              hover_name=\"Name\",title='Age, weight and time to adoption of pets')\n",
    "fig.show()"
   ]
  },
  {
   "cell_type": "markdown",
   "metadata": {},
   "source": [
    "Hovering over the plots let us see that Kujo, an 8-year old pet that weighs 172 lbs was adopted after 30 weeks is the pet that took the longest to be adopted. "
   ]
  },
  {
   "cell_type": "markdown",
   "metadata": {},
   "source": [
    "Read more about 3D scatter plots here https://plotly.com/python/3d-scatter-plots/."
   ]
  },
  {
   "cell_type": "markdown",
   "metadata": {},
   "source": [
    "## 4D+ Plots\n",
    "\n",
    "While we cannot visualize more than three dimensions, we can incorporate more than three variables by incorporating different symbols and colours. \n",
    "\n",
    "Let's suppose for instance, that we want to identify the gender of the pet in addition to their age, weight and time to adoption. "
   ]
  },
  {
   "cell_type": "code",
   "execution_count": null,
   "metadata": {
    "scrolled": false
   },
   "outputs": [],
   "source": [
    "fig = px.scatter_3d(pets, \n",
    "                    x='Weight (lbs)', \n",
    "                    y='Age (years)', \n",
    "                    z='Time to Adoption (weeks)',\n",
    "                    color='Gender',\n",
    "              hover_name=\"Name\", title='Age, weight, gender and time to adoption of pets')\n",
    "fig.show()"
   ]
  },
  {
   "cell_type": "markdown",
   "metadata": {},
   "source": [
    "We can now see that Kujo is a male pet. \n",
    "\n",
    "Let's add one more dimension by incorporating symbols and let's categorize by species. "
   ]
  },
  {
   "cell_type": "code",
   "execution_count": null,
   "metadata": {},
   "outputs": [],
   "source": [
    "fig = px.scatter_3d(pets, \n",
    "                    x='Weight (lbs)', \n",
    "                    y='Age (years)', \n",
    "                    z='Time to Adoption (weeks)',\n",
    "                    color='Gender',\n",
    "                    symbol='Species',\n",
    "                    opacity=0.5,\n",
    "              hover_name=\"Name\", title='Species, age, weight, gender and time to adoption of pets')\n",
    "fig.show()\n",
    "\n",
    "# Save to HTML file \n",
    "# pio.write_html(fig,\"3D_plus_Scatter_plot_species.html\", auto_open=True)"
   ]
  },
  {
   "cell_type": "markdown",
   "metadata": {},
   "source": [
    "We can then see that Kujo is an 8-year old male dog, that weighs 172 lbs, and that it took Kujo 30 weeks to be adopted. "
   ]
  },
  {
   "cell_type": "markdown",
   "metadata": {},
   "source": [
    "## Surface Plots\n",
    "\n",
    "Another way we can represent three variables in a plot is by using surface plots. \n",
    "\n",
    "As before, we will pass `x,y,z` which contain arrays with datapoints to create a 3D surface."
   ]
  },
  {
   "cell_type": "code",
   "execution_count": null,
   "metadata": {},
   "outputs": [],
   "source": [
    "import numpy as np\n",
    "x = np.outer(np.linspace(-2, 2, 30), np.ones(30))\n",
    "y = x.copy().T # transpose\n",
    "z = np.cos(x ** 2 + y ** 2)"
   ]
  },
  {
   "cell_type": "markdown",
   "metadata": {},
   "source": [
    "Exercise: \n",
    "\n",
    "Explore `x,y,z` by printing its contents."
   ]
  },
  {
   "cell_type": "code",
   "execution_count": null,
   "metadata": {
    "scrolled": true
   },
   "outputs": [],
   "source": [
    "print(x)\n",
    "print(y)\n",
    "print(z)"
   ]
  },
  {
   "cell_type": "markdown",
   "metadata": {},
   "source": [
    "We can then plot them using the `Surface` function from `plotly.graph_objects`. "
   ]
  },
  {
   "cell_type": "code",
   "execution_count": null,
   "metadata": {},
   "outputs": [],
   "source": [
    "import plotly.graph_objects as go\n",
    "trace = go.Surface(x = x, y = y, z =z )\n",
    "data = [trace]\n",
    "layout = go.Layout(title = '3D Surface plot')\n",
    "fig = go.Figure(data = data)\n",
    "fig.update_layout(\n",
    "    title=\"3D Surface Plot of the function z = x^2 + y^2\",    \n",
    ")\n",
    "fig.show()\n",
    "\n",
    "# Write to HTML file\n",
    "#pio.write_html(fig,\"surface_plot3d.html\")"
   ]
  },
  {
   "cell_type": "markdown",
   "metadata": {},
   "source": [
    "### Read more \n",
    "\n",
    "3D Parametric Plots https://plotly.com/python/v3/3d-parametric-plots/ \n",
    "\n",
    "Surface Plots https://plotly.com/python/3d-surface-plots/\n",
    "\n",
    "3D Scatter Plots https://plotly.com/python/3d-scatter-plots/"
   ]
  },
  {
   "cell_type": "markdown",
   "metadata": {},
   "source": [
    "[![Callysto.ca License](https://github.com/callysto/curriculum-notebooks/blob/master/callysto-notebook-banner-bottom.jpg?raw=true)](https://github.com/callysto/curriculum-notebooks/blob/master/LICENSE.md)"
   ]
  }
 ],
 "metadata": {
  "kernelspec": {
   "display_name": "Python 3",
   "language": "python",
   "name": "python3"
  },
  "language_info": {
   "codemirror_mode": {
    "name": "ipython",
    "version": 3
   },
   "file_extension": ".py",
   "mimetype": "text/x-python",
   "name": "python",
   "nbconvert_exporter": "python",
   "pygments_lexer": "ipython3",
   "version": "3.8.5"
  }
 },
 "nbformat": 4,
 "nbformat_minor": 2
}
