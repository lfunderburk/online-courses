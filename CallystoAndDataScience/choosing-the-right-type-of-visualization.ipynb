{
 "cells": [
  {
   "cell_type": "markdown",
   "metadata": {},
   "source": [
    "![Callysto.ca Banner](https://github.com/callysto/curriculum-notebooks/blob/master/callysto-notebook-banner-top.jpg?raw=true)"
   ]
  },
  {
   "cell_type": "markdown",
   "metadata": {},
   "source": [
    "# Choosing the right type of visualization for your data"
   ]
  },
  {
   "cell_type": "markdown",
   "metadata": {},
   "source": [
    "A visualization is only useful if it helps us to understand our data set better or communicate information about it more accurately and powerfully.\n",
    "\n",
    "Not every type of visualization is useful for every data set. When choosing to represent data visually, it helps to remember what question we are trying to answer, and to ask ourselves, if what the visualization is presenting is relevant to that question.\n",
    "\n",
    "Let's get some practice representing our `pets` data set from the previous module in different ways.\n",
    "\n",
    "Run the following code in your Jupyter notebook to import the pandas library and recreate the `pets` DataFrame. "
   ]
  },
  {
   "cell_type": "code",
   "execution_count": null,
   "metadata": {},
   "outputs": [],
   "source": [
    "#load \"pandas\" library under the alias \"pd\"\n",
    "import pandas as pd\n",
    "\n",
    "#identify the location of our online data\n",
    "url = \"https://raw.githubusercontent.com/callysto/online-courses/master/CallystoAndDataScience/data/pets-bootstrap.csv\"\n",
    "\n",
    "#read csv file from url and create a dataframe\n",
    "pets = pd.read_csv(url)\n",
    "\n",
    "#display the head of the data\n",
    "pets.head()"
   ]
  },
  {
   "cell_type": "markdown",
   "metadata": {},
   "source": [
    "### A note  about code comments"
   ]
  },
  {
   "cell_type": "markdown",
   "metadata": {},
   "source": [
    "Have you noticed that some lines in code begin with a `#`, and seem to be written in plain English?\n",
    "\n",
    "In Python, lines that begin with `#` are **comments** — basically notes for any humans looking at the code. The `#` tells the compiler to ignore the line, as it is not intended to be read by a computer.\n",
    "\n",
    "Comments are useful when teaching others about what specific parts of our code does.  They also can help us keep our code organized, remind us about important information, and allow people less familiar with our code to understand it more easily."
   ]
  },
  {
   "cell_type": "markdown",
   "metadata": {},
   "source": [
    "## Grouping Variables"
   ]
  },
  {
   "cell_type": "markdown",
   "metadata": {},
   "source": [
    "Our `pets` data set contains much more data than the lists we used to create data visualizations in Unit 1. For example, the head of the DataFrame shows us that for each animal eight different variables have been recorded.\n",
    "\n",
    "Let's start by picking a few columns we are interested in, and get counts of the different values within those columns.\n",
    "\n",
    "* Gender\n",
    "* Species\n",
    "* Age (in years)\n",
    "\n",
    "To do this, we'll use the pandas method **groupby**, which lets us split data into groups and give those groups names so they can be easily referenced."
   ]
  },
  {
   "cell_type": "markdown",
   "metadata": {},
   "source": [
    "Run the code below to group data in the `gender`, `species`, and `age` columns of the `pets` DataFrame by count."
   ]
  },
  {
   "cell_type": "code",
   "execution_count": null,
   "metadata": {},
   "outputs": [],
   "source": [
    "# Group by different Categories: Gender, Species, Age (years)\n",
    "gender = pets.groupby(\"Gender\").size().reset_index(name=\"Count\")\n",
    "species = pets.groupby(\"Species\").size().reset_index(name=\"Count\")\n",
    "age = pets.groupby(\"Age (years)\").size().reset_index(name=\"Count\")"
   ]
  },
  {
   "cell_type": "markdown",
   "metadata": {},
   "source": [
    "Now that we've created our groups, let's call each group name and see what it looks like as a table.  "
   ]
  },
  {
   "cell_type": "code",
   "execution_count": null,
   "metadata": {},
   "outputs": [],
   "source": [
    "gender"
   ]
  },
  {
   "cell_type": "code",
   "execution_count": null,
   "metadata": {},
   "outputs": [],
   "source": [
    "species"
   ]
  },
  {
   "cell_type": "code",
   "execution_count": null,
   "metadata": {},
   "outputs": [],
   "source": [
    "age"
   ]
  },
  {
   "cell_type": "markdown",
   "metadata": {},
   "source": [
    "We can then visualize the data in multiple ways using tools from the Plotly Express library."
   ]
  },
  {
   "cell_type": "code",
   "execution_count": null,
   "metadata": {},
   "outputs": [],
   "source": [
    "import plotly.express as px"
   ]
  },
  {
   "cell_type": "code",
   "execution_count": null,
   "metadata": {
    "scrolled": false
   },
   "outputs": [],
   "source": [
    "# Display the data in multiple ways\n",
    "\n",
    "# Visualizing the Species table\n",
    "fig1 = px.scatter(species,x=\"Species\", y=\"Count\",title='Species Scatter plot')\n",
    "fig1.show()\n",
    "\n",
    "fig2 = px.bar(species,x=\"Species\",y=\"Count\",title=\"Species Bar chart\")\n",
    "fig2.show()\n",
    "\n",
    "fig3 = px.pie(species,values='Count', names='Species', title=\"Species Pie chart\")\n",
    "fig3.show()"
   ]
  },
  {
   "cell_type": "markdown",
   "metadata": {},
   "source": [
    "## Activity\n",
    "\n",
    "Change the code below to visualize `age` data instead of `gender` data."
   ]
  },
  {
   "cell_type": "code",
   "execution_count": null,
   "metadata": {},
   "outputs": [],
   "source": [
    "table_to_visualize = gender\n",
    "x_value = \"Gender\"\n",
    "\n",
    "fig1 = px.scatter(table_to_visualize,x=x_value, y=\"Count\",title=str(x_value)+' Scatter plot')\n",
    "fig1.show()\n",
    "\n",
    "fig2 = px.bar(table_to_visualize,x=x_value,y=\"Count\",title=str(x_value)+\" Bar chart\")\n",
    "fig2.show()\n",
    "\n",
    "fig3 = px.pie(table_to_visualize,values='Count', names=x_value, title=str(x_value)+\" Pie chart\")\n",
    "fig3.show()"
   ]
  },
  {
   "cell_type": "markdown",
   "metadata": {},
   "source": [
    "## Creating clear and useful visualizations"
   ]
  },
  {
   "cell_type": "markdown",
   "metadata": {},
   "source": [
    "Sometimes a particular visualization represents data better than others.\n",
    "\n",
    "Let's look at some more examples created with Plotly Express.\n",
    "\n",
    "Suppose we wanted to see the relationship between age and time to adoption for the pets in our data set. The code below allows us to generate a bar graph to compare these variables.\n",
    "\n",
    "Try running it now."
   ]
  },
  {
   "cell_type": "code",
   "execution_count": null,
   "metadata": {},
   "outputs": [],
   "source": [
    "# Create bar plot\n",
    "bar_pet = px.bar(pets,\n",
    "           x=\"Time to Adoption (weeks)\", \n",
    "           y=\"Age (years)\",\n",
    "           title=\"Age (in years) and Time to Adoption (weeks) for each pet\")\n",
    "\n",
    "# Display within our Jupyter notebook \n",
    "bar_pet.show()"
   ]
  },
  {
   "cell_type": "markdown",
   "metadata": {},
   "source": [
    "Looking at this bar graph, we can see that there does seem to be a relationship between age and time to adoption, but some aspects of the visualization are not clear. For example, most of the bars are segmented, but there is no explanation of what the segments represent.\n",
    "\n",
    "Let’s update our data visualization to include more information. We'll use colour to represent pet species and add labels with the names of each pet. \n",
    "\n",
    "Run the code below. "
   ]
  },
  {
   "cell_type": "code",
   "execution_count": null,
   "metadata": {},
   "outputs": [],
   "source": [
    "# Create coloured bar chart\n",
    "bar_pet = px.bar(pets,\n",
    "           x=\"Time to Adoption (weeks)\", \n",
    "           y=\"Age (years)\",\n",
    "           title=\"Age (in years) and Time to Adoption (weeks) for each pet\",\n",
    "            color =\"Species\",text=\"Name\")\n",
    "\n",
    "bar_pet.show()"
   ]
  },
  {
   "cell_type": "markdown",
   "metadata": {},
   "source": [
    "These updates have made the bar chart easier to interpret, however there's a lot of information represented here and the chart still doesn't clearly display the relationship between age and time to adoption.\n",
    "\n",
    "Some elements are also confusing, for example, some pets have tiny name labels and bar segments compared to others, but this doesn't communicate anything useful about their data — the chart type simply allows less room when different pets have similar ages and times to adoptions.\n",
    "\n",
    "Let’s try a different type of visualization.\n",
    "\n",
    "Run the code below to create a **scatter plot**. In this visualization, each dot will represent a single pet and the dot's colour will represent the species.\n"
   ]
  },
  {
   "cell_type": "code",
   "execution_count": null,
   "metadata": {},
   "outputs": [],
   "source": [
    "# Create scatter plot\n",
    "scatter_pet = px.scatter(pets,\n",
    "           x=\"Time to Adoption (weeks)\", \n",
    "           y=\"Age (years)\",\n",
    "           title=\"Age (in years) and Time to Adoption (weeks) for each pet\",\n",
    "            color =\"Species\",hover_name=\"Name\")\n",
    "\n",
    "scatter_pet.show()"
   ]
  },
  {
   "cell_type": "markdown",
   "metadata": {},
   "source": [
    "This scatterplot communicates our information much more clearly than our bar graph. It allows each pet to be represented equally, shows the strength of the relationship between our two variables, and allows us to easily identify outliers and see at a glance the different species of pets in our data set."
   ]
  },
  {
   "cell_type": "markdown",
   "metadata": {},
   "source": [
    "## Conclusion\n",
    "\n",
    "Not all data visualizations are equally useful — depending on how we design them, they might actually make our data harder to understand or mislead us to assume things that are untrue.\n",
    "When creating visualizations, our goal should be to present information relevant to the question we wish to answer as clearly as possible.\n",
    "\n",
    "However, there also is no hard and fast rule about which method is best. Different data calls for different approaches, and the most important thing is to be able to easily see patterns and draw conclusions.\n",
    "\n",
    "Keep in mind that there won't always be an obvious best answer, and different people may choose representations for the same data."
   ]
  },
  {
   "cell_type": "markdown",
   "metadata": {},
   "source": [
    "[![Callysto.ca License](https://github.com/callysto/curriculum-notebooks/blob/master/callysto-notebook-banner-bottom.jpg?raw=true)](https://github.com/callysto/curriculum-notebooks/blob/master/LICENSE.md)"
   ]
  }
 ],
 "metadata": {
  "kernelspec": {
   "display_name": "Python 3",
   "language": "python",
   "name": "python3"
  },
  "language_info": {
   "codemirror_mode": {
    "name": "ipython",
    "version": 3
   },
   "file_extension": ".py",
   "mimetype": "text/x-python",
   "name": "python",
   "nbconvert_exporter": "python",
   "pygments_lexer": "ipython3",
   "version": "3.7.4"
  }
 },
 "nbformat": 4,
 "nbformat_minor": 2
}
