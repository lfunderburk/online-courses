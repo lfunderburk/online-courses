{
 "cells": [
  {
   "cell_type": "markdown",
   "metadata": {},
   "source": [
    "![Callysto.ca Banner](https://github.com/callysto/curriculum-notebooks/blob/master/callysto-notebook-banner-top.jpg?raw=true)"
   ]
  },
  {
   "cell_type": "markdown",
   "metadata": {},
   "source": [
    "# Using data visualizations"
   ]
  },
  {
   "cell_type": "markdown",
   "metadata": {},
   "source": [
    "In this notebook we will play with different colour palettes designed to address accessbility. \n",
    "\n",
    "Visit http://colorbrewer2.org/. You will be redirected to the page below.\n",
    "\n",
    "![](./images/ColourBrewer.png)\n",
    "\n",
    "Change the number of data classes to 4.\n",
    "\n",
    "Click on one of the colour strips. Notice that under 4-class the palette you chose appears, along with a string containing the symbol '#' followed by letters and numbers. This string encodes the colour.  \n",
    "\n",
    "\n",
    "![](./images/Palette.png)\n",
    "\n",
    "Check the `colourblind safe` under the Only Show menu. \n",
    "\n",
    "Pick a set of colourblind safe colors and substitute the colours in the code below for your colours. Run the cell to display the new plot. \n"
   ]
  },
  {
   "cell_type": "code",
   "execution_count": null,
   "metadata": {},
   "outputs": [],
   "source": [
    "import matplotlib.pyplot as plt\n",
    "x = [1,2,3,4]\n",
    "y = [2,4,8,16]\n",
    "# Substitute the colours you picked in the colors array below\n",
    "colour_list = ['#ffffd4','#fed98e','#fe9929','#cc4c02']\n",
    "plt.pie(y, colors=colour_list);\n",
    "plt.show()"
   ]
  },
  {
   "cell_type": "markdown",
   "metadata": {},
   "source": [
    "Repeat this exercise, but this time, set the number of data classes to 5, ensure the colour palette is colourblind safe, and substitute the colours in the code below for your colours. \n",
    "\n",
    "Run the cell to display the new plot. "
   ]
  },
  {
   "cell_type": "code",
   "execution_count": null,
   "metadata": {},
   "outputs": [],
   "source": [
    "import plotly.express as px\n",
    "\n",
    "#load \"pandas\" library under short name \"pd\"\n",
    "import pandas as pd\n",
    "# we have csv file of data related to hypothetical pets for adoption from https://www.bootstrapworld.org/materials/data-science/\n",
    "url = \"https://raw.githubusercontent.com/callysto/online-courses/master/CallystoAndDataScience/data/pets-bootstrap.csv\"\n",
    "#read csv file from url and save it as dataframe\n",
    "pets = pd.read_csv(url)\n",
    "\n",
    "# Your answer here\n",
    "colour_list2 = ['#ffffcc','#a1dab4','#41b6c4','#2c7fb8','#253494']\n",
    "\n",
    "# Do not modify the code below \n",
    "bar_pet = px.scatter(pets,\n",
    "      y = \"Time to Adoption (weeks)\", \n",
    "      x=\"Age (years)\",\n",
    "      title=\"Age (in years) and Weight (in lbs) for each pet\",\n",
    "      color =\"Species\",size='Time to Adoption (weeks)',\n",
    "                     # New colours will be reflected here\n",
    "      color_discrete_sequence=colour_list2)\n",
    "\n",
    "bar_pet.show()"
   ]
  },
  {
   "cell_type": "markdown",
   "metadata": {},
   "source": [
    "Let's apply what we learned to other kinds of plots. \n",
    "\n",
    "Similar as before, visit http://colorbrewer2.org/ and pick a palette that is colorblind safe for the pie chart below.  "
   ]
  },
  {
   "cell_type": "code",
   "execution_count": null,
   "metadata": {},
   "outputs": [],
   "source": [
    "species = pets.groupby(\"Species\").size().reset_index(name=\"Count\")\n",
    "species"
   ]
  },
  {
   "cell_type": "code",
   "execution_count": null,
   "metadata": {},
   "outputs": [],
   "source": [
    "colour_list1 = ['#ffffcc','#a1dab4','#41b6c4','#2c7fb8','#253494']\n",
    "\n",
    "fig = px.pie(species,values=\"Count\",names=\"Species\",title=\"Species of pets\",color_discrete_sequence=colour_list1)\n",
    "\n",
    "\n",
    "fig.show()"
   ]
  },
  {
   "cell_type": "markdown",
   "metadata": {},
   "source": [
    "[![Callysto.ca License](https://github.com/callysto/curriculum-notebooks/blob/master/callysto-notebook-banner-bottom.jpg?raw=true)](https://github.com/callysto/curriculum-notebooks/blob/master/LICENSE.md)"
   ]
  }
 ],
 "metadata": {
  "kernelspec": {
   "display_name": "Python 3",
   "language": "python",
   "name": "python3"
  },
  "language_info": {
   "codemirror_mode": {
    "name": "ipython",
    "version": 3
   },
   "file_extension": ".py",
   "mimetype": "text/x-python",
   "name": "python",
   "nbconvert_exporter": "python",
   "pygments_lexer": "ipython3",
   "version": "3.7.4"
  }
 },
 "nbformat": 4,
 "nbformat_minor": 2
}
