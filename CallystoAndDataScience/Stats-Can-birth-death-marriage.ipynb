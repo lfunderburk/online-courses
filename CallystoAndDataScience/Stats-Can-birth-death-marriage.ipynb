{
 "cells": [
  {
   "cell_type": "markdown",
   "metadata": {
    "hidden": false
   },
   "source": [
    "![Callysto.ca Banner](https://github.com/callysto/curriculum-notebooks/blob/master/callysto-notebook-banner-top.jpg?raw=true)"
   ]
  },
  {
   "cell_type": "markdown",
   "metadata": {
    "hidden": false
   },
   "source": [
    "# Births, Deaths and Marriages in Canada\n",
    "\n",
    "## About this notebook\n",
    "\n",
    "In this notebook I download a full dataset from StatsCan exploring how the number of deaths, births and marriages in Canada has changed throughout the course of the years.\n",
    "\n",
    "## Data Source\n",
    "\n",
    "Data set is obtained from https://www150.statcan.gc.ca/t1/tbl1/en/tv.action?pid=1710005901 via ProductID 17-10-0059-01. \n",
    "\n",
    "\n",
    "## What are the questions I am interested in answering? \n",
    "\n",
    "1. How has the number of deaths and births changed in Canada since 1946? \n",
    "\n",
    "2. What is the average number of births and deaths for each province between 1946 and 2019?\n",
    "\n",
    "4. How does the ratio of births to deaths compare on any two given years?\n",
    "\n",
    "I am interested in learning how the number of births and deaths have changed over the course of the years. In this notebook, I assume the learner is comfortable with Jupyter notebooks and Python programming languages and can visualize line charts as well as pie charts. "
   ]
  },
  {
   "cell_type": "code",
   "execution_count": null,
   "metadata": {},
   "outputs": [],
   "source": [
    "# Installing required module\n",
    "!pip install tqdm"
   ]
  },
  {
   "cell_type": "code",
   "execution_count": null,
   "metadata": {
    "hidden": false
   },
   "outputs": [],
   "source": [
    "# Import necessary Stats Can functions\n",
    "%run -i ./StatsCan/helpers.py\n",
    "%run -i ./StatsCan/scwds.py\n",
    "%run -i ./StatsCan/sc.py\n",
    "# Import necessary libraries\n",
    "import datetime as dt\n",
    "import pandas as pd\n",
    "import json\n",
    "import datetime\n",
    "from tqdm import tnrange, tqdm_notebook\n",
    "from time import sleep\n",
    "import plotly.express as px\n",
    "import plotly.graph_objects as go\n",
    "from plotly.subplots import make_subplots"
   ]
  },
  {
   "cell_type": "markdown",
   "metadata": {
    "hidden": false
   },
   "source": [
    "## Downloading Stats Can Data\n",
    "\n",
    "Run the code below to get the dataset found here: https://www150.statcan.gc.ca/t1/tbl1/en/tv.action?pid=1710005901 "
   ]
  },
  {
   "cell_type": "code",
   "execution_count": null,
   "metadata": {
    "hidden": false,
    "scrolled": true
   },
   "outputs": [],
   "source": [
    "# # Download data \n",
    "# DATA SET PRODUCT ID  for internal use only. \n",
    "productId = '17-10-0059-01'\n",
    "download_tables(str(productId))\n",
    "df_fullDATA = zip_table_to_dataframe(productId)\n",
    "\n",
    "# Clean up full dataset - remove internal use columns\n",
    "cols = list(df_fullDATA.loc[:,'REF_DATE':'UOM'])+ ['SCALAR_FACTOR'] +  ['VALUE']\n",
    "df_less = df_fullDATA[cols]\n",
    "df_less2 = df_less.drop([\"DGUID\"], axis=1)\n",
    "\n",
    "# Display only first five entries\n",
    "df_less2.head(5)"
   ]
  },
  {
   "cell_type": "markdown",
   "metadata": {
    "hidden": false
   },
   "source": [
    "## Select Data Subsets\n",
    "\n",
    "\n",
    "We see that the data contains a GEO column with names of provinces, as well as Canada, along with the number of births, deaths and marriages. \n",
    "\n",
    "Let's take a look at the number of deaths, births and marriages in Canada between 1946 and 2020."
   ]
  },
  {
   "cell_type": "code",
   "execution_count": null,
   "metadata": {},
   "outputs": [],
   "source": [
    "# Subsetting the data\n",
    "initial_date = \"1946\"\n",
    "final_date = \"2020\"\n",
    "location=\"Canada\"\n",
    "\n",
    "df_sub = df_less2[(df_less2[\"REF_DATE\"]>=initial_date) & \n",
    "                  (df_less2[\"REF_DATE\"]<=final_date) &\n",
    "                  (df_less2[\"GEO\"]==location)]\n",
    "\n",
    "display(df_sub.head(3))\n",
    "display(df_sub.tail(3))\n"
   ]
  },
  {
   "cell_type": "markdown",
   "metadata": {},
   "source": [
    "Due to the size of the table, it won't make sense to stare a the table, so let's create a line plot with the number of births, deaths and marriages over time. \n",
    "\n",
    "Note: you can change the value of `location` for any province you are interested in and create the corresponding plot."
   ]
  },
  {
   "cell_type": "code",
   "execution_count": null,
   "metadata": {},
   "outputs": [],
   "source": [
    "# Plotting\n",
    "fig = make_subplots(rows=1, cols=1, specs=[[{'type':'scatter'}]])\n",
    "\n",
    "df_sub_de = df_sub[(df_sub[\"Estimates\"]==\"Deaths\")]\n",
    "df_sub_ma = df_sub[(df_sub[\"Estimates\"]==\"Marriages\")]\n",
    "df_sub_bi = df_sub[(df_sub[\"Estimates\"]==\"Births\")]\n",
    "\n",
    "fig.add_trace(go.Scatter(x=df_sub_de[\"REF_DATE\"],\n",
    "                        y=df_sub_de[\"VALUE\"], name=\"Deaths\",line=dict(color=\"#66c2a5\")))\n",
    "\n",
    "fig.add_trace(go.Scatter(x=df_sub_bi[\"REF_DATE\"],\n",
    "                        y=df_sub_bi[\"VALUE\"],name=\"Births\",line=dict(color=\"#fc8d62\")))\n",
    "\n",
    "fig.add_trace(go.Scatter(x=df_sub_ma[\"REF_DATE\"],\n",
    "                        y=df_sub_ma[\"VALUE\"],name=\"Marriages\",line=dict(color=\"#8da0cb\")))\n",
    "\n",
    "fig.update_layout(\n",
    "    title_text=\"<b>Number of births and deaths in \" + str(location) +\" between 1947 and 2019</b>\")\n",
    "\n",
    "# Set x-axis title\n",
    "fig.update_xaxes(title_text=\"<b>Year</b>\")\n",
    "\n",
    "# Set y-axes titles\n",
    "fig.update_yaxes(title_text=\"<b>Size of estimate (units) </b>\")\n",
    "\n",
    "fig.show()"
   ]
  },
  {
   "cell_type": "markdown",
   "metadata": {},
   "source": [
    "### Observations\n",
    "\n",
    "We see that Canada-wide, the number of births had an increase in the 1960s, followed by a decrease in the 1970s. It remained relatively stable from the 1990's onward. \n",
    "\n",
    "We also see that, for any given year, the number of births is higher during January and April, and lower during October. \n",
    "\n",
    "The number of deaths has increased steadily over time. For any given year, the number of deaths reaches its highest point during January, and it's lowest during July and April.\n",
    "\n",
    "There is a large gap in the number of marriages between 1970 and 1980, followed by a discontinuity in the data after 2004, shortly after same-sex marriage was recognized as legal. See [here](https://en.wikipedia.org/wiki/Same-sex_marriage_in_Canada#Recognition_of_foreign_legal_unions). The highest number of marriages tend to be recorded during July each year, while the lowest number of marriages tends to be recorded during January each year. "
   ]
  },
  {
   "cell_type": "markdown",
   "metadata": {},
   "source": [
    "___ \n",
    "Let's now take a look at the average number of deaths and births for each of the provinces."
   ]
  },
  {
   "cell_type": "code",
   "execution_count": null,
   "metadata": {},
   "outputs": [],
   "source": [
    "# Subsetting the data\n",
    "initial_date = \"1946\"\n",
    "final_date = \"2020\"\n",
    "\n",
    "# Births\n",
    "all_locations_b = df_less2[(df_less2[\"REF_DATE\"]>=initial_date) & \n",
    "                  (df_less2[\"REF_DATE\"]<=final_date) &\n",
    "                        (df_less2[\"Estimates\"]==\"Births\")]\n",
    "\n",
    "average_b = all_locations_b.groupby(\"GEO\").mean().reset_index()\n",
    "\n",
    "# Deaths\n",
    "all_locations_d = df_less2[(df_less2[\"REF_DATE\"]>=initial_date) & \n",
    "                  (df_less2[\"REF_DATE\"]<=final_date) &\n",
    "                        (df_less2[\"Estimates\"]==\"Deaths\")]\n",
    "\n",
    "average_d = all_locations_d.groupby(\"GEO\").mean().reset_index()\n",
    "\n",
    "####### Plotting\n",
    "fig = make_subplots(rows=1, cols=1, specs=[[{'type':'bar'}]])\n",
    "\n",
    "fig.add_trace(go.Bar(x=average_b[\"GEO\"],\n",
    "                        y=average_b[\"VALUE\"], name=\"Births\")).update_xaxes(categoryorder='total ascending')\n",
    "\n",
    "fig.add_trace(go.Bar(x=average_d[\"GEO\"],\n",
    "                        y=average_d[\"VALUE\"], name=\"Deaths\")).update_xaxes(categoryorder='total ascending')\n",
    "\n",
    "fig.update_layout(\n",
    "    title_text=\"<b>Average number of births and deaths in \" + str(location) +\" between 1947 and 2019</b>\")\n",
    "\n",
    "# Set x-axis title\n",
    "fig.update_xaxes(title_text=\"<b>Year</b>\")\n",
    "\n",
    "# Set y-axes titles\n",
    "fig.update_yaxes(title_text=\"<b>Size of estimate (units) </b>\")\n",
    "\n",
    "colors = ['#af8dc3','#f7f7f7','#7fbf7b']\n",
    "\n",
    "fig.show()"
   ]
  },
  {
   "cell_type": "markdown",
   "metadata": {},
   "source": [
    "### Observations\n",
    "\n",
    "On average, Ontario registered both the highest number of deaths and births, during the period 1957 and 2019. Quebec follows second. Yukon recorded both the lowest number of deaths and births. \n"
   ]
  },
  {
   "cell_type": "markdown",
   "metadata": {},
   "source": [
    "## Comparing proportion of Births and Deaths between a given year and 2019\n",
    "\n",
    "Let's now take a look at the ratio of births to deaths for two years: 1946 and 2019 in all of Canada. \n",
    "\n",
    "Note that you can change the value in the `location` variable below to any of the provinces listed in the dataframe. "
   ]
  },
  {
   "cell_type": "code",
   "execution_count": null,
   "metadata": {},
   "outputs": [],
   "source": [
    "# Selecting new location\n",
    "new_location = \"Canada\"\n",
    "# Subsetting dataframe\n",
    "df_sub_n = df_less2[(df_less2[\"GEO\"]==new_location)]\n",
    "\n",
    "# Getting sum of estimates for 1990\n",
    "sum_of_estimates_1946 = df_sub_n[(df_sub_n[\"REF_DATE\"]>='1946') & \n",
    "                               (df_sub_n['REF_DATE']<'1947') & \n",
    "                              (df_sub_n[\"Estimates\"] !=\"Marriages\")].groupby(\"Estimates\").sum()\n",
    "sum_of_estimates_1946 = sum_of_estimates_1946.reset_index()\n",
    "\n",
    "# GEtting sum of estimates for 2019\n",
    "sum_of_estimates_2019 = df_sub[(df_sub[\"REF_DATE\"]>='2019') & \n",
    "                               (df_sub['REF_DATE']<'2020')].groupby(\"Estimates\").sum()\n",
    "sum_of_estimates_2019 = sum_of_estimates_2019.reset_index()\n",
    "\n",
    "\n",
    "# Display\n",
    "print(\"Estimate sum: 1946\")\n",
    "display(sum_of_estimates_1946)\n",
    "print(\"Estimate sum: 2019\")\n",
    "display(sum_of_estimates_2019)"
   ]
  },
  {
   "cell_type": "code",
   "execution_count": null,
   "metadata": {},
   "outputs": [],
   "source": [
    "331471.0/115358.0"
   ]
  },
  {
   "cell_type": "code",
   "execution_count": null,
   "metadata": {},
   "outputs": [],
   "source": [
    "fig = make_subplots(rows=1, cols=2, specs=[[{'type':'domain'}, {'type':'domain'}]])\n",
    "fig.add_trace(go.Pie(labels=sum_of_estimates_1946[\"Estimates\"], values=sum_of_estimates_1946['VALUE'], \n",
    "                     name=\"Estimates\",scalegroup='one'),1, 1)\n",
    "fig.add_trace(go.Pie(labels=sum_of_estimates_2019[\"Estimates\"], values=sum_of_estimates_2019['VALUE'], \n",
    "                     name=\"Estimates\",scalegroup='one'),1,2)\n",
    "\n",
    "# Use `hole` to create a donut-like pie chart\n",
    "fig.update_traces(hole=.4, hoverinfo=\"label+percent+name\")\n",
    "\n",
    "fig.update_layout(\n",
    "    title_text=str(new_location) + \": Estimate number of births and deaths in 1946 (left), and 2019 (right)\",\n",
    "    # Add annotations in the center of the donut pies.\n",
    "    annotations=[dict(text='1946', x=0.20, y=0.5, font_size=15, showarrow=False),\n",
    "                 dict(text='2019', x=0.80, y=0.5, font_size=15, showarrow=False)])\n",
    "\n",
    "\n",
    "colors = ['#f1a340', '#998ec3']\n",
    "\n",
    "fig.update_traces(hoverinfo='label+percent', textinfo='value', textfont_size=15,\n",
    "                   marker=dict(colors=colors, line=dict(color='#000000', width=2)))\n",
    "\n",
    "fig.show()\n"
   ]
  },
  {
   "cell_type": "markdown",
   "metadata": {},
   "source": [
    "### Observations\n",
    "\n",
    "We see that in 1946, out of all deaths and births in Canada, less than one third of the estimates account for deaths, and over two thirds account for births. \n",
    "\n",
    "In 2019, we see that, out of all deaths and births in Canada, less than half of the estimates account for deaths, and over half of the estimates account for births. \n",
    "\n",
    "This indicates that the ratio of deaths to births increased from 1946 to 2019, implying that more people are dying than being born in 2019, relative to 1946. "
   ]
  },
  {
   "cell_type": "markdown",
   "metadata": {},
   "source": [
    "## Conclusions\n",
    "\n",
    "We learned in this notebook how the number of deaths, births and marriages has changed over the course of 1946 up until 2019. We learned that data on marriages stopped being collected in 2004, shortly after same-sex marriage was legalized. \n",
    "\n",
    "We also learned that Ontario registers, on average, both the highest number of births and the highest number of deaths, relative to all other provinces. \n",
    "\n",
    "We learned that the ratio of deaths to births has changed over time. For instance, in 1946, the ratio of biths to deaths was about 2.9 . However, in 2019, this ratio changed to 1.3. If this ratio decreases in the upcoming years, the Canadian population could experience a decrease in population. "
   ]
  },
  {
   "cell_type": "markdown",
   "metadata": {
    "hidden": false
   },
   "source": [
    "<h2 align='center'>References</h2>\n",
    "\n",
    "Statistics Canada.  Table  17-10-0059-01   Estimates of the components of natural increase, quarterly\n"
   ]
  },
  {
   "cell_type": "markdown",
   "metadata": {
    "hidden": false
   },
   "source": [
    "[![Callysto.ca License](https://github.com/callysto/curriculum-notebooks/blob/master/callysto-notebook-banner-bottom.jpg?raw=true)](https://github.com/callysto/curriculum-notebooks/blob/master/LICENSE.md)"
   ]
  }
 ],
 "metadata": {
  "kernelspec": {
   "display_name": "Python 3",
   "language": "python",
   "name": "python3"
  },
  "language_info": {
   "codemirror_mode": {
    "name": "ipython",
    "version": 3
   },
   "file_extension": ".py",
   "mimetype": "text/x-python",
   "name": "python",
   "nbconvert_exporter": "python",
   "pygments_lexer": "ipython3",
   "version": "3.7.4"
  }
 },
 "nbformat": 4,
 "nbformat_minor": 2
}
