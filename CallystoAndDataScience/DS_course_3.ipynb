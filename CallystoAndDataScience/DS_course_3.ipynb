{
 "cells": [
  {
   "cell_type": "markdown",
   "metadata": {},
   "source": [
    "![Callysto.ca Banner](https://github.com/callysto/curriculum-notebooks/blob/master/callysto-notebook-banner-top.jpg?raw=true)"
   ]
  },
  {
   "cell_type": "markdown",
   "metadata": {},
   "source": [
    "# More code from Michael for Data science course"
   ]
  },
  {
   "cell_type": "code",
   "execution_count": null,
   "metadata": {},
   "outputs": [],
   "source": [
    "import plotly.express as px\n",
    "df = px.data.tips()\n",
    "fig = px.histogram(df, x=\"total_bill\")\n",
    "fig.show()"
   ]
  },
  {
   "cell_type": "code",
   "execution_count": null,
   "metadata": {},
   "outputs": [],
   "source": [
    "df"
   ]
  },
  {
   "cell_type": "code",
   "execution_count": null,
   "metadata": {},
   "outputs": [],
   "source": [
    "from pandas import DataFrame"
   ]
  },
  {
   "cell_type": "code",
   "execution_count": null,
   "metadata": {},
   "outputs": [],
   "source": [
    "df1 = DataFrame({'salary':100*[10000]+100*[50000]})"
   ]
  },
  {
   "cell_type": "markdown",
   "metadata": {},
   "source": [
    "# "
   ]
  },
  {
   "cell_type": "code",
   "execution_count": null,
   "metadata": {},
   "outputs": [],
   "source": [
    "df1"
   ]
  },
  {
   "cell_type": "code",
   "execution_count": null,
   "metadata": {},
   "outputs": [],
   "source": [
    "fig = px.histogram(df1, x=\"salary\",nbins=10)\n",
    "fig.show()"
   ]
  },
  {
   "cell_type": "code",
   "execution_count": null,
   "metadata": {},
   "outputs": [],
   "source": [
    "import plotly.graph_objects as go\n",
    "\n",
    "x = [\"10K\",\"30K\",\"50K\"]\n",
    "y = [\"100\",\"0\",\"100\"]\n",
    "\n",
    "fig = go.Figure()\n",
    "fig.add_trace(go.Histogram(histfunc=\"sum\", y=y, x=x, name=\"sum\"))\n",
    "\n",
    "fig.update_layout(\n",
    "    title_text='Salary Distribution - Company B', # title of plot\n",
    "    xaxis_title_text='Annual Salary', # xaxis label\n",
    "    yaxis_title_text='Count of employees', # yaxis label\n",
    "    bargap=0.2, # gap between bars of adjacent location coordinates\n",
    "    bargroupgap=0.1 # gap between bars of the same location coordinates\n",
    ")\n",
    "\n",
    "\n",
    "fig.show()"
   ]
  },
  {
   "cell_type": "code",
   "execution_count": null,
   "metadata": {},
   "outputs": [],
   "source": [
    "x = [\"10K\",\"30K\",\"50K\"]\n",
    "y = [\"1\",\"200\",\"1\"]\n",
    "\n",
    "fig = go.Figure()\n",
    "fig.add_trace(go.Histogram(histfunc=\"sum\", y=y, x=x, name=\"sum\"))\n",
    "\n",
    "fig.update_layout(\n",
    "    title_text='Salary Distribution - Company A', # title of plot\n",
    "    xaxis_title_text='Annual Salary', # xaxis label\n",
    "    yaxis_title_text='Count of employees', # yaxis label\n",
    "    bargap=0.2, # gap between bars of adjacent location coordinates\n",
    "    bargroupgap=0.1 # gap between bars of the same location coordinates\n",
    ")\n",
    "\n",
    "\n",
    "fig.show()"
   ]
  },
  {
   "cell_type": "code",
   "execution_count": null,
   "metadata": {},
   "outputs": [],
   "source": [
    "x = [\"10K\",\"15K\",\"20K\",\"25K\",\"30K\",\"35K\",\"40K\",\"45K\",\"50K\"]\n",
    "y = [\"1\",\"20\",\"40\",\"70\",\"100\",\"70\",\"40\",\"20\",\"1\"]\n",
    "\n",
    "fig = go.Figure()\n",
    "fig.add_trace(go.Histogram(histfunc=\"sum\", y=y, x=x, name=\"sum\"))\n",
    "\n",
    "fig.update_layout(\n",
    "    title_text='Salary Distribution - Company C', # title of plot\n",
    "    xaxis_title_text='Annual Salary', # xaxis label\n",
    "    yaxis_title_text='Count of employees', # yaxis label\n",
    "    bargap=0.2, # gap between bars of adjacent location coordinates\n",
    "    bargroupgap=0.1 # gap between bars of the same location coordinates\n",
    ")\n",
    "\n",
    "\n",
    "fig.show()"
   ]
  },
  {
   "cell_type": "code",
   "execution_count": null,
   "metadata": {},
   "outputs": [],
   "source": [
    "x = [\"10K\",\"15K\",\"20K\",\"25K\",\"30K\",\"35K\",\"40K\",\"45K\",\"50K\"]\n",
    "y = [\"1\",\"20\",\"40\",\"70\",\"100\",\"70\",\"40\",\"20\",\"1\"]\n",
    "\n",
    "fig = go.Figure()\n",
    "fig.add_trace(go.Histogram(histfunc=\"sum\", y=y, x=x, name=\"sum\"))\n",
    "\n",
    "fig.update_layout(\n",
    "    title_text='Salary Distribution - Company C', # title of plot\n",
    "    xaxis_title_text='Annual Salary', # xaxis label\n",
    "    yaxis_title_text='Count of employees', # yaxis label\n",
    "    bargap=0.2, # gap between bars of adjacent location coordinates\n",
    "    bargroupgap=0.1 # gap between bars of the same location coordinates\n",
    ")\n",
    "\n",
    "\n",
    "fig.show()"
   ]
  },
  {
   "cell_type": "code",
   "execution_count": null,
   "metadata": {},
   "outputs": [],
   "source": [
    "import numpy as np\n",
    "x = np.random.randint(1,40,10)\n",
    "y=20*x\n",
    "import plotly.express as px\n",
    "df = DataFrame({'Hours worked':x,'Tips':y})\n",
    "fig = px.line(df, x='Hours worked', y='Tips')\n",
    "fig.show()"
   ]
  },
  {
   "cell_type": "code",
   "execution_count": null,
   "metadata": {},
   "outputs": [],
   "source": [
    "x = np.sort(np.random.randint(1,40,15))\n",
    "y=20*(x + 4*np.random.randn(15))\n",
    "\n",
    "fig = go.Figure()\n",
    "fig.add_trace(go.Scatter(y=y, x=x,mode='markers',name=\"Data\"))\n",
    "fig.add_trace(go.Scatter(y=20*x, x=x,mode='lines',name=\"Linear fit\"))\n",
    "\n",
    "fig.update_layout(\n",
    "    title_text='Tips versus hours', # title of plot\n",
    "    xaxis_title_text='Hours worked', # xaxis label\n",
    "    yaxis_title_text='Tips received ($$)', # yaxis label\n",
    ")\n",
    "\n",
    "\n",
    "\n",
    "fig.show()"
   ]
  },
  {
   "cell_type": "code",
   "execution_count": null,
   "metadata": {},
   "outputs": [],
   "source": [
    "x = np.sort(np.random.randint(1,52,25))\n",
    "a = 10\n",
    "b = 10\n",
    "c = -b/(2*52)\n",
    "y=a + b*x + c*x**2\n",
    "z = y + (10+x/3)*np.random.randn(25)\n",
    "\n",
    "fig = go.Figure()\n",
    "fig.add_trace(go.Scatter(y=z, x=x,mode='markers',name=\"Data\"))\n",
    "fig.add_trace(go.Scatter(y=y, x=x,mode='lines',name=\"Quadratic fit\"))\n",
    "\n",
    "fig.update_layout(\n",
    "    title_text='Weight versus weeks', # title of plot\n",
    "    xaxis_title_text='Weeks in training', # xaxis label\n",
    "    yaxis_title_text='Max weight lifted (Kg)', # yaxis label\n",
    ")\n",
    "\n",
    "\n",
    "\n",
    "fig.show()"
   ]
  },
  {
   "cell_type": "code",
   "execution_count": null,
   "metadata": {},
   "outputs": [],
   "source": [
    "## 30 days of doubling growth\n",
    "x = np.array([i for i in range(1,31)])\n",
    "y = 100*(1/2)**(30-x)\n",
    "fig = go.Figure()\n",
    "fig.add_trace(go.Scatter(y=y, x=x,mode='markers',name=\"Exponential growth\"))\n",
    "#fig.add_trace(go.Scatter(y=y, x=x,mode='lines',name=\"Quadratic fit\"))\n",
    "\n",
    "fig.update_layout(\n",
    "    title_text='Doubling pond coverage each day', # title of plot\n",
    "    xaxis_title_text='Days', # xaxis label\n",
    "    yaxis_title_text='Percentage of coverage', # yaxis label\n",
    ")\n",
    "\n",
    "\n",
    "\n",
    "fig.show()"
   ]
  },
  {
   "cell_type": "code",
   "execution_count": null,
   "metadata": {},
   "outputs": [],
   "source": [
    "## 30 days of doubling growth\n",
    "x = np.array([i for i in range(1,21)])\n",
    "y = 100*(1/2)**(30-x)\n",
    "fig = go.Figure()\n",
    "fig.add_trace(go.Scatter(y=y, x=x,mode='markers',name=\"Exponential growth\"))\n",
    "#fig.add_trace(go.Scatter(y=y, x=x,mode='lines',name=\"Quadratic fit\"))\n",
    "\n",
    "fig.update_layout(\n",
    "    title_text='Doubling pond coverage each day (first 20 days)', # title of plot\n",
    "    xaxis_title_text='Days', # xaxis label\n",
    "    yaxis_title_text='Percentage of coverage', # yaxis label\n",
    ")\n",
    "\n",
    "\n",
    "\n",
    "fig.show()"
   ]
  },
  {
   "cell_type": "code",
   "execution_count": null,
   "metadata": {},
   "outputs": [],
   "source": [
    "r = 0.05 # annual rate of return\n",
    "R = np.exp(np.log(1+r)/365)\n",
    "x = np.array([n for n in range(1,365*50+1)])\n",
    "y = (1-R**x)/(1-R)\n",
    "fig = go.Figure()\n",
    "fig.add_trace(go.Scatter(y=x, x=15+x/365,mode='lines',name=\"No interest\"))\n",
    "fig.add_trace(go.Scatter(y=y, x=15+x/365,mode='lines',name=\"With 5% interest\"))\n",
    "\n",
    "fig.update_layout(\n",
    "    title_text='Growth of investments, at a dollar a day', # title of plot\n",
    "    xaxis_title_text='Age (years)', # xaxis label\n",
    "    yaxis_title_text='Total savings, with/without interest', # yaxis label\n",
    ")\n",
    "\n",
    "\n",
    "\n",
    "fig.show()"
   ]
  },
  {
   "cell_type": "code",
   "execution_count": null,
   "metadata": {},
   "outputs": [],
   "source": [
    "365*50"
   ]
  },
  {
   "cell_type": "markdown",
   "metadata": {},
   "source": [
    "[![Callysto.ca License](https://github.com/callysto/curriculum-notebooks/blob/master/callysto-notebook-banner-bottom.jpg?raw=true)](https://github.com/callysto/curriculum-notebooks/blob/master/LICENSE.md)"
   ]
  }
 ],
 "metadata": {
  "kernelspec": {
   "display_name": "Python 3",
   "language": "python",
   "name": "python3"
  },
  "language_info": {
   "codemirror_mode": {
    "name": "ipython",
    "version": 3
   },
   "file_extension": ".py",
   "mimetype": "text/x-python",
   "name": "python",
   "nbconvert_exporter": "python",
   "pygments_lexer": "ipython3",
   "version": "3.8.5"
  }
 },
 "nbformat": 4,
 "nbformat_minor": 4
}
